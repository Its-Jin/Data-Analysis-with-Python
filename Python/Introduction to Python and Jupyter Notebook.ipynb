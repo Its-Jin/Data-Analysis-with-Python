{
 "cells": [
  {
   "cell_type": "markdown",
   "metadata": {},
   "source": [
    "# Basic Arithmetic Operations \n",
    "Python supports the following arithmetic operators:\n",
    "\n",
    "Table 1.1: The common arithmetic operations within python and their syntax\n",
    "| Operator | Purpose | Example | Result |\n",
    "|----------|---------|---------|--------|\n",
    "| `+` | Addition | `2 + 3` | `5` | \n",
    "| `-` | Subtraction | `3 - 2` | `1` |\n",
    "| `*` | Multiplication | `8 * 12` | `96` | \n",
    "| `/` | Division | `100 / 7` | `14.28..` | \n",
    "| `//` | Floor Division | `100 // 7` | `14` |\n",
    "| `%` | Modulus/Remainder | `100 % 7` | `2` | \n",
    "| `**` | Exponent | `5 ** 3` | `125` | "
   ]
  },
  {
   "cell_type": "markdown",
   "metadata": {},
   "source": [
    "# Evaluating Conditions \n",
    "Table 1.2: Common condition evaluating operators where a boolean output is generated\n",
    "| Operator | Description | \n",
    "|-------------|-----------------------------------------------------------------| \n",
    "| `==` | Check if operands are equal |\n",
    "| `!=` | Check if operands are not equal | \n",
    "| `>` | Check if left operand is greater than right operand |\n",
    "| `<` | Check if left operand is less than right operand |\n",
    "| `>=` | Check if left operand is greater than or equal to right operand |\n",
    "| `<=` | Check if left operand is less than or equal to right operand | "
   ]
  },
  {
   "cell_type": "markdown",
   "metadata": {},
   "source": [
    "# Combining conditions with Logical Operators\n",
    "Table 1.3a: AND operator evaluates the combined outputs of >1 conditions. The outcome of an AND operation is only 'TRUE' if all conditions are 'TRUE' - all or nothing\n",
    "### And Operators \n",
    "| `a` | `b` | `a and b` | \n",
    "|---------|--------|-----------|\n",
    "| `True` | `True` | `True` | \n",
    "| `True` | `False`| `False` |\n",
    "| `False`| `True` | `False` | \n",
    "| `False`| `False`| `False` |\n",
    "\n",
    "Table 1.3b: OR operator evaluates the combined outputs of >1 conditions. The outcome of an OR operation is only 'TRUE' if either one condition is 'TRUE' - everything is 'TRUE' mostly.\n",
    "### Or Operators\n",
    "| `a` | `b` | `a or b` |\n",
    "|---------|--------|-----------|\n",
    "| `True` | `True` | `True` |\n",
    "| `True` | `False`| `True` |\n",
    "| `False`| `True` | `True` |\n",
    "| `False`| `False`| `False` |"
   ]
  },
  {
   "cell_type": "markdown",
   "metadata": {},
   "source": [
    "# Data Types  \n",
    "Table 1.4: Various data type in python and their descriptions \n",
    "| **DataType**  |  **Description** |  \n",
    "|---|---|\n",
    "| Integer  |  +ve or -ve whole numbers |   \n",
    "| Float |  Numbers with decimal point Examples: 4.0, 3.99, 1e-2 |  \n",
    "| Boolian  | True (1) and False (0) outputs that is the result of a comparison function| \n",
    "| None  |  Used to indicate the absence of a value |\n",
    "| String   | text which must be contained within quotations |\n",
    "| List  | `[]`  |\n",
    "| Tuple | ( ) |\n",
    "\n",
    "\n",
    "# Common Fuctions for DataTypes\n",
    "| Usage | Syntax | \n",
    "|-------|--------|\n",
    "|Gives the datatype| `type(var)`|\n",
    "|Turn float into an integer| `int(float)`|\n",
    "|Turn datatype into a Bool | `bool(var)`|\n"
   ]
  },
  {
   "cell_type": "markdown",
   "metadata": {},
   "source": [
    "### Common Functions in Strings \n",
    "| Usage | Syntax |\n",
    "|-------|--------|\n",
    "| Length | `len(var)` | \n",
    "| Indexing string - showing the letters within the range of index | `Var[x:y]`| \n",
    "| Joining strings | `string 1 + string 2` | \n",
    "| Changing cases | `.lower()` , `.upper()`, `.capitalize()` | \n",
    "| Replaces strings with other strings | `.replace` |  \n",
    "| Splitting a string into a list of characters | `.split()`|\n",
    "| Remove spaces from beginning and end of the string | `.strip()`|\n",
    "| Inserts specified variable output in designated { } | `.format()` |"
   ]
  },
  {
   "cell_type": "markdown",
   "metadata": {},
   "source": [
    "#### Examples"
   ]
  },
  {
   "cell_type": "code",
   "execution_count": 1,
   "metadata": {},
   "outputs": [],
   "source": [
    "\n",
    "var=\"Hi this is python\"\n",
    "var_2=\"This is VS Code\"\n"
   ]
  },
  {
   "cell_type": "code",
   "execution_count": 3,
   "metadata": {},
   "outputs": [
    {
     "data": {
      "text/plain": [
       "17"
      ]
     },
     "execution_count": 3,
     "metadata": {},
     "output_type": "execute_result"
    }
   ],
   "source": [
    "#Length \n",
    "\n",
    "len(var)"
   ]
  },
  {
   "cell_type": "code",
   "execution_count": 4,
   "metadata": {},
   "outputs": [
    {
     "data": {
      "text/plain": [
       "' thi'"
      ]
     },
     "execution_count": 4,
     "metadata": {},
     "output_type": "execute_result"
    }
   ],
   "source": [
    "#Indexing \n",
    "var[2:6]"
   ]
  },
  {
   "cell_type": "code",
   "execution_count": 7,
   "metadata": {},
   "outputs": [
    {
     "name": "stdout",
     "output_type": "stream",
     "text": [
      "Hi this is pythonThis is VS Code\n"
     ]
    }
   ],
   "source": [
    "#Joining strings - note: default output do not have a space at the joint\n",
    "var_3 = var + var_2\n",
    "print(var_3)"
   ]
  },
  {
   "cell_type": "code",
   "execution_count": 9,
   "metadata": {},
   "outputs": [
    {
     "data": {
      "text/plain": [
       "'HI THIS IS PYTHON'"
      ]
     },
     "execution_count": 9,
     "metadata": {},
     "output_type": "execute_result"
    }
   ],
   "source": [
    "#Changing cases - note the order of the syntax\n",
    "\n",
    "var.upper()\n"
   ]
  }
 ],
 "metadata": {
  "kernelspec": {
   "display_name": "Python 3.10.7 64-bit",
   "language": "python",
   "name": "python3"
  },
  "language_info": {
   "codemirror_mode": {
    "name": "ipython",
    "version": 3
   },
   "file_extension": ".py",
   "mimetype": "text/x-python",
   "name": "python",
   "nbconvert_exporter": "python",
   "pygments_lexer": "ipython3",
   "version": "3.10.7"
  },
  "orig_nbformat": 4,
  "vscode": {
   "interpreter": {
    "hash": "aee8b7b246df8f9039afb4144a1f6fd8d2ca17a180786b69acc140d282b71a49"
   }
  }
 },
 "nbformat": 4,
 "nbformat_minor": 2
}
