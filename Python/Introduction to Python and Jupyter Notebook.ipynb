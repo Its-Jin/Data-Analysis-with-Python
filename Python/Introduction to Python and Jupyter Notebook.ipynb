{
 "cells": [
  {
   "cell_type": "markdown",
   "metadata": {},
   "source": [
    "# Basic Arithmetic Operations \n",
    "Python supports the following arithmetic operators:\n",
    "\n",
    "Table 1.1: The common arithmetic operations within python and their syntax\n",
    "\n",
    "|Operator| Purpose |\n",
    "|--------|---------|\n",
    "| + | Addition |\n",
    "| - | Subtraction |\n",
    "| * | Multiplication |\n",
    "|/ | Division |\n",
    "| // | Floor division |\n",
    "| % | Remainder |\n",
    "| ** | Exponent |"
   ]
  },
  {
   "cell_type": "markdown",
   "metadata": {},
   "source": [
    "#### Example 1: Solving multi-step problems\n",
    "A grocery store sells ice for **$1.25** per bag and makes **20%** in profit. If 500 bags were sold, how much was the profit?"
   ]
  },
  {
   "cell_type": "code",
   "execution_count": 137,
   "metadata": {},
   "outputs": [
    {
     "name": "stdout",
     "output_type": "stream",
     "text": [
      "The grocery store makes $125.0 in profit from 500 bags\n"
     ]
    }
   ],
   "source": [
    "Cost_per_bag=1.25\n",
    "Profit_margin=0.2\n",
    "Profit_per_bag=1.25*0.2\n",
    "No_of_Bags=500\n",
    "Total_Profit= No_of_Bags * Profit_per_bag\n",
    "print('The grocery store makes ${} in profit from {} bags'.format(Total_Profit,No_of_Bags))\n"
   ]
  },
  {
   "cell_type": "markdown",
   "metadata": {},
   "source": [
    "#### Exercise 1:\n",
    "A travel company wants to fly a plane to the Bahamas. Flying the plane costs 5000 dollars. So far, 29 people have signed up for the trip. If the company charges 200 dollars per ticket, what is the profit made by the company? Create variables for each numeric quantity and use appropriate arithmetic operations."
   ]
  },
  {
   "cell_type": "code",
   "execution_count": 138,
   "metadata": {},
   "outputs": [
    {
     "name": "stdout",
     "output_type": "stream",
     "text": [
      "For a flight with 29 individuals at $200 per ticket and $5000 operation cost, the profit made is $800\n"
     ]
    }
   ],
   "source": [
    "Operation_cost=5000\n",
    "reservations=29\n",
    "ticket_cost=200\n",
    "\n",
    "Profit=(reservations*ticket_cost)-Operation_cost\n",
    "print(\"For a flight with {} individuals at ${} per ticket and ${} operation cost, the profit made is ${}\" .format(reservations,ticket_cost,Operation_cost,Profit))\n"
   ]
  },
  {
   "cell_type": "markdown",
   "metadata": {},
   "source": [
    "---"
   ]
  },
  {
   "cell_type": "markdown",
   "metadata": {},
   "source": [
    "# Evaluating Conditions \n",
    "Table 1.2: Common condition evaluating operators where a boolean output is generated\n",
    "| Operator | Description | \n",
    "|-------------|-----------------------------------------------------------------| \n",
    "| `==` | Check if operands are equal |\n",
    "| `!=` | Check if operands are not equal | \n",
    "| `>` | Check if left operand is greater than right operand |\n",
    "| `<` | Check if left operand is less than right operand |\n",
    "| `>=` | Check if left operand is greater than or equal to right operand |\n",
    "| `<=` | Check if left operand is less than or equal to right operand | "
   ]
  },
  {
   "cell_type": "markdown",
   "metadata": {},
   "source": [
    "### Example 1.2: Comparisons "
   ]
  },
  {
   "cell_type": "code",
   "execution_count": 139,
   "metadata": {},
   "outputs": [
    {
     "name": "stdout",
     "output_type": "stream",
     "text": [
      "Is the ice bag expensive? False\n"
     ]
    }
   ],
   "source": [
    "is_ice_expensive = Cost_per_bag >=10\n",
    "print('Is the ice bag expensive?', is_ice_expensive)"
   ]
  },
  {
   "cell_type": "markdown",
   "metadata": {},
   "source": [
    "---"
   ]
  },
  {
   "cell_type": "markdown",
   "metadata": {},
   "source": [
    "# Combining conditions with Logical Operators\n",
    "Table 1.3a: AND operator evaluates the combined outputs of >1 conditions. The outcome of an AND operation is only 'TRUE' if all conditions are 'TRUE' - all or nothing\n",
    "### And Operators \n",
    "| `a` | `b` | `a and b` | \n",
    "|---------|--------|-----------|\n",
    "| `True` | `True` | `True` | \n",
    "| `True` | `False`| `False` |\n",
    "| `False`| `True` | `False` | \n",
    "| `False`| `False`| `False` |\n",
    "\n",
    "Table 1.3b: OR operator evaluates the combined outputs of >1 conditions. The outcome of an OR operation is only 'TRUE' if either one condition is 'TRUE' - everything is 'TRUE' mostly.\n",
    "### Or Operators\n",
    "| `a` | `b` | `a or b` |\n",
    "|---------|--------|-----------|\n",
    "| `True` | `True` | `True` |\n",
    "| `True` | `False`| `True` |\n",
    "| `False`| `True` | `True` |\n",
    "| `False`| `False`| `False` |\n",
    "\n",
    "\n",
    "\n",
    "Complex conditions can be formed when logical operators are combined. Round brackets are used to indicate order. Default is ran left to right."
   ]
  },
  {
   "cell_type": "markdown",
   "metadata": {},
   "source": [
    "#### Example 1.2: Compex conditions with logical operator combinations"
   ]
  },
  {
   "cell_type": "code",
   "execution_count": 140,
   "metadata": {},
   "outputs": [
    {
     "data": {
      "text/plain": [
       "True"
      ]
     },
     "execution_count": 140,
     "metadata": {},
     "output_type": "execute_result"
    }
   ],
   "source": [
    "\n",
    "(2 > 3 and 4 <= 5) or not (Cost_per_bag < 0 and True)"
   ]
  },
  {
   "cell_type": "markdown",
   "metadata": {},
   "source": [
    "---"
   ]
  },
  {
   "cell_type": "markdown",
   "metadata": {},
   "source": [
    "# Data Types  \n",
    "Table 1.4: Various data type in python and their descriptions \n",
    "| **DataType**  |  **Description** |  **Syntax** |\n",
    "|---|---|---|\n",
    "| Integer  |  +ve or -ve whole numbers |   int |\n",
    "| Float |  Numbers with decimal point Examples: 4.0, 3.99, 1e-2 |  float |\n",
    "| Boolian  | True (1) and False (0) outputs that is the result of a comparison function| bool |\n",
    "| None  |  Used to indicate the absence of a value | nonetype |\n",
    "| String   | text which must be contained within quotations | str |\n",
    "| List  | `[]`  |\n",
    "| Tuple | ( ) |\n",
    "\n",
    "\n",
    "# Common Fuctions for DataTypes\n",
    "| Usage | Syntax | \n",
    "|-------|--------|\n",
    "|Gives the datatype| `type(var)`|\n",
    "|Turn float into an integer| `int(float)`|\n",
    "|Turn datatype into a Bool | `bool(var)`|\n",
    "| += | rewrites the variable with the result of the addition |"
   ]
  },
  {
   "cell_type": "markdown",
   "metadata": {},
   "source": [
    "### Common Functions in Strings \n",
    "| Usage | Syntax |\n",
    "|-------|--------|\n",
    "| Length | `len(var)` | \n",
    "| Indexing string - showing the letters within the range of index | `Var[x:y]`| \n",
    "| Joining strings | `string 1 + string 2` | \n",
    "| Changing cases | `.lower()` , `.upper()`, `.capitalize()` | \n",
    "| Replaces strings with other strings | `.replace` |  \n",
    "| Splitting a string into a list of characters | `.split()`|\n",
    "| Remove spaces from beginning and end of the string | `.strip()`|\n",
    "| Inserts specified variable output in designated { } | `.format()` |\n",
    "| Strings support comparison operators | `==` `!=` |"
   ]
  },
  {
   "cell_type": "markdown",
   "metadata": {},
   "source": [
    "#### Examples"
   ]
  },
  {
   "cell_type": "code",
   "execution_count": 141,
   "metadata": {},
   "outputs": [],
   "source": [
    "\n",
    "var=\"Hi this is python\"\n",
    "var_2=\"This is VS Code\"\n"
   ]
  },
  {
   "cell_type": "code",
   "execution_count": 142,
   "metadata": {},
   "outputs": [
    {
     "data": {
      "text/plain": [
       "17"
      ]
     },
     "execution_count": 142,
     "metadata": {},
     "output_type": "execute_result"
    }
   ],
   "source": [
    "#Length \n",
    "\n",
    "len(var)"
   ]
  },
  {
   "cell_type": "code",
   "execution_count": 143,
   "metadata": {},
   "outputs": [
    {
     "data": {
      "text/plain": [
       "' thi'"
      ]
     },
     "execution_count": 143,
     "metadata": {},
     "output_type": "execute_result"
    }
   ],
   "source": [
    "#Indexing \n",
    "var[2:6]"
   ]
  },
  {
   "cell_type": "code",
   "execution_count": 144,
   "metadata": {},
   "outputs": [
    {
     "name": "stdout",
     "output_type": "stream",
     "text": [
      "Hi this is pythonThis is VS Code\n"
     ]
    }
   ],
   "source": [
    "#Joining strings - note: default output do not have a space at the joint\n",
    "var_3 = var + var_2\n",
    "print(var_3)"
   ]
  },
  {
   "cell_type": "code",
   "execution_count": 145,
   "metadata": {},
   "outputs": [
    {
     "name": "stdout",
     "output_type": "stream",
     "text": [
      "Hi this is python This is VS Code\n"
     ]
    }
   ],
   "source": [
    "# Joining strings with a space\n",
    "\n",
    "var_4 = var + \" \" + var_2\n",
    "print(var_4)"
   ]
  },
  {
   "cell_type": "code",
   "execution_count": 146,
   "metadata": {},
   "outputs": [
    {
     "data": {
      "text/plain": [
       "'HI THIS IS PYTHON'"
      ]
     },
     "execution_count": 146,
     "metadata": {},
     "output_type": "execute_result"
    }
   ],
   "source": [
    "#Changing cases - note the order of the syntax\n",
    "\n",
    "var.upper()\n"
   ]
  },
  {
   "cell_type": "code",
   "execution_count": 147,
   "metadata": {},
   "outputs": [
    {
     "name": "stdout",
     "output_type": "stream",
     "text": [
      "Hi this is snake\n"
     ]
    }
   ],
   "source": [
    "# Replacing values in a variable\n",
    "replace_var=var.replace(\"python\", \"snake\")\n",
    "print(replace_var)"
   ]
  },
  {
   "cell_type": "code",
   "execution_count": 148,
   "metadata": {},
   "outputs": [
    {
     "data": {
      "text/plain": [
       "['Sun', ' Mon', 'Tue']"
      ]
     },
     "execution_count": 148,
     "metadata": {},
     "output_type": "execute_result"
    }
   ],
   "source": [
    "# Splitting \n",
    "\"Sun, Mon,Tue\".split(\",\")"
   ]
  },
  {
   "cell_type": "code",
   "execution_count": 149,
   "metadata": {},
   "outputs": [
    {
     "data": {
      "text/plain": [
       "'This is a long line with some space before, after,     and some space in the middle..'"
      ]
     },
     "execution_count": 149,
     "metadata": {},
     "output_type": "execute_result"
    }
   ],
   "source": [
    "# Stripping - removing white space in a string\n",
    "a_long_line = \"       This is a long line with some space before, after,     and some space in the middle..    \"\n",
    "a_long_line_stripped=a_long_line.strip()\n",
    "a_long_line_stripped"
   ]
  },
  {
   "cell_type": "code",
   "execution_count": 150,
   "metadata": {},
   "outputs": [
    {
     "data": {
      "text/plain": [
       "True"
      ]
     },
     "execution_count": 150,
     "metadata": {},
     "output_type": "execute_result"
    }
   ],
   "source": [
    "# Comparison Operators for strings \n",
    "\n",
    "Name=\"John\"\n",
    "\n",
    "Name==\"Doe\" #Equal to\n",
    "Name!=\"Jane\" #Not equal to"
   ]
  },
  {
   "cell_type": "markdown",
   "metadata": {},
   "source": [
    "### Common Functions in Lists \n",
    "\n",
    "| Usage | Syntax |\n",
    "|-------|--------|\n",
    "| Creating a List | `list = [x,y,z]`| \n",
    "| Indexing a list | `list[value_location]`|\n",
    "| Modifying value within a list | `list[location] = \"new value\"` |\n",
    "| Adding a value to the list | `.insert(location, \"new value\")` |\n",
    "| Remove a specified value from the list | `.remove('value')`|\n",
    "| Adding new value at the end of the  list | `.append('new value')` |\n",
    "| Removing the value from the specified location of a list | `.pop(location)` |\n",
    "| Examining if a value exists within a list | `'Value Name' in List Name` |\n",
    "| Combining Lists | `+` |\n",
    "| Copying a list | `.copy` |"
   ]
  }
 ],
 "metadata": {
  "kernelspec": {
   "display_name": "Python 3.10.7 64-bit",
   "language": "python",
   "name": "python3"
  },
  "language_info": {
   "codemirror_mode": {
    "name": "ipython",
    "version": 3
   },
   "file_extension": ".py",
   "mimetype": "text/x-python",
   "name": "python",
   "nbconvert_exporter": "python",
   "pygments_lexer": "ipython3",
   "version": "3.10.7"
  },
  "orig_nbformat": 4,
  "vscode": {
   "interpreter": {
    "hash": "aee8b7b246df8f9039afb4144a1f6fd8d2ca17a180786b69acc140d282b71a49"
   }
  }
 },
 "nbformat": 4,
 "nbformat_minor": 2
}
