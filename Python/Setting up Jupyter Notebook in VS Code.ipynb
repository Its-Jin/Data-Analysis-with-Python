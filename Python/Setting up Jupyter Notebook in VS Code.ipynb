{
 "cells": [
  {
   "cell_type": "markdown",
   "metadata": {},
   "source": [
    "# How to Set up Jupyter Notebook in VS Code. \n",
    "\n",
    "### Step 1: Creating / Opening a Jupyter Notebook \n",
    "+ **Method 1** Right click file explorer and create a new file with **.ipynb** extension.\n",
    "+ **Method 2** Open command palette and run the command \"Create: New Jupyter Notebook\"\n",
    "\n",
    "### Step 2: Selecting Kernel\n",
    "+ Select kernel using the kernel picker on the top right.\n",
    "\n"
   ]
  },
  {
   "cell_type": "markdown",
   "metadata": {},
   "source": [
    "# How to Use Jupyter Notebook in VS Code\n",
    "### Running Cells \n",
    "+ To run current cell - Use shortcut 'CTRL+Enter' \n",
    "+ To run current cell & advance - Use 'Shift+Enter'\n",
    "\n",
    "### Saving Notebook \n",
    "+ 'CTRL+S'\n",
    "\n",
    "### Export Notebook\n",
    "+ 'export' \n",
    "\n",
    "\n"
   ]
  },
  {
   "cell_type": "markdown",
   "metadata": {},
   "source": []
  },
  {
   "cell_type": "markdown",
   "metadata": {},
   "source": [
    "# Resources to learn more about setting up Juptyer Notebooks in VS Code\n",
    "\n",
    "+ [Efficient way to activate anaconda in VS Code for Python](https://medium.com/analytics-vidhya/efficient-way-to-activate-conda-in-vscode-ef21c4c231f2)\n",
    "+ [Jupyuter Notebook in VS Code](https://towardsdatascience.com/jupyter-notebook-in-visual-studio-code-3fc21a36fe43)\n"
   ]
  },
  {
   "cell_type": "markdown",
   "metadata": {},
   "source": []
  }
 ],
 "metadata": {
  "kernelspec": {
   "display_name": "Python 3.10.7 64-bit",
   "language": "python",
   "name": "python3"
  },
  "language_info": {
   "name": "python",
   "version": "3.10.7"
  },
  "orig_nbformat": 4,
  "vscode": {
   "interpreter": {
    "hash": "aee8b7b246df8f9039afb4144a1f6fd8d2ca17a180786b69acc140d282b71a49"
   }
  }
 },
 "nbformat": 4,
 "nbformat_minor": 2
}
